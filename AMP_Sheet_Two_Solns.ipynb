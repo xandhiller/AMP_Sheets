{
 "cells": [
  {
   "cell_type": "markdown",
   "metadata": {},
   "source": [
    "# AMP Sheet Two Solutions"
   ]
  },
  {
   "cell_type": "markdown",
   "metadata": {},
   "source": [
    "## Physics Question One\n",
    "\n",
    "Consider the Schrodinger Wave Equation for a partical moving in a one-dimensional universe against a potential $V(x)$\n",
    "\n",
    "$$\n",
    "i \\hbar \\frac{\\partial \\Psi}{\\partial t} = -\\frac{\\hbar^2}{2m} \\frac{\\partial^2 \\Psi}{\\partial x^2} + V(x)\\Psi\n",
    "$$\n",
    "\n",
    "Prove that the following equation is a solution: \n",
    "\n",
    "$$\n",
    "\\Psi(x,t) = A e^{i(kx-wt)}\n",
    "$$\n",
    "\n",
    "**Hint**: _Think about how \"proving this is a solution\" is done otherwise you might get to the end and not realise it._\n"
   ]
  },
  {
   "cell_type": "markdown",
   "metadata": {},
   "source": [
    "To prove we have a solution, if we get a physical law out, this implies that the solution is correct. \n",
    "\n",
    "### First step: \n",
    "Get the derivatives.\n",
    "\n",
    "We need: \n",
    "$$\n",
    "\\frac{\\partial^{2} \\Psi}{\\partial x^{2}} \\ \\ \\text{and} \\ \\ \\frac{\\partial \\Psi}{\\partial t}\n",
    "$$\n",
    "\n",
    "$$\n",
    "\\frac{\\partial^{2} \\Psi}{\\partial x^{2}} = \\frac{\\partial^{2}}{\\partial x^{2}} \\bigg( A e^{i(kx-\\omega t)} \\bigg)\n",
    "$$\n",
    "\n",
    "$$\n",
    "\\frac{\\partial^{2} \\Psi}{\\partial x^{2}} = Ae^{-\\omega t}\\frac{\\partial^{2}}{\\partial x^{2}} \\big( e^{i(kx)} \\big)\n",
    "$$\n",
    "\n",
    "$$\n",
    "\\frac{\\partial^{2} \\Psi}{\\partial x^{2}} = Ae^{-\\omega t}ik \\frac{\\partial}{\\partial x} \\big( e^{i(kx)} \\big)\n",
    "$$\n",
    "\n",
    "$$\n",
    "\\frac{\\partial^{2} \\Psi}{\\partial x^{2}} = Ae^{-\\omega t} (ik)^{2} e^{i(kx)}\n",
    "$$\n",
    "\n",
    "$$\n",
    "\\frac{\\partial^{2} \\Psi}{\\partial x^{2}} = (ik)^{2} A e^{i(kx- \\omega t)}\n",
    "$$\n",
    "\n",
    "Woohoo! Now for the time derivative:\n",
    "\n",
    "$$\n",
    "\\frac{\\partial \\Psi}{\\partial t} = \\frac{\\partial }{\\partial t} \\big( A e^{i(kx- \\omega t)} \\big)\n",
    "$$\n",
    "\n",
    "$$\n",
    "\\frac{\\partial \\Psi}{\\partial t} = A e^{ikx} \\frac{\\partial }{\\partial t} \\big( e^{-i \\omega t} \\big)\n",
    "$$\n",
    "\n",
    "$$\n",
    "\\frac{\\partial \\Psi}{\\partial t} = A e^{ikx} (-i \\omega)  e^{-i \\omega t} \n",
    "$$\n",
    "\n",
    "$$\n",
    "\\frac{\\partial \\Psi}{\\partial t} = (-i \\omega )A e^{i(kx- \\omega t)}\n",
    "$$"
   ]
  },
  {
   "cell_type": "markdown",
   "metadata": {},
   "source": [
    "### Second step: \n",
    "Substitute our derivatives and the wave equation into the Schrodinger Wave Equation\n",
    "\n",
    "$$\n",
    "i \\hbar \\frac{\\partial \\Psi}{\\partial t} = -\\frac{\\hbar^2}{2m} \\frac{\\partial^2 \\Psi}{\\partial x^2} + V(x)\\Psi\n",
    "$$\n",
    "\n",
    "$$\n",
    "i \\hbar (-i\\omega)A e^{i(kx-wt)} = -\\frac{\\hbar^2}{2m}(ik)^{2} A e^{i(kx-\\omega t)}  + V(x)A e^{i(kx-\\omega t)}\n",
    "$$\n",
    "\n",
    "Factor out $A e^{i(kx-\\omega t)}$\n",
    "\n",
    "$$\n",
    "i \\hbar (-i\\omega) = -\\frac{\\hbar^2}{2m}(ik)^{2}  + V(x)\n",
    "$$\n",
    "\n",
    "Simplify our imaginary numbers:\n",
    "\n",
    "$$\n",
    "\\hbar \\omega = \\frac{\\hbar^2}{2m}(k)^{2}  + V(x)\n",
    "$$\n",
    "\n",
    "And we know that:\n",
    "\n",
    "$$\n",
    "\\omega = 2 \\pi f \\ \\ \\ \\text{and} \\ \\ \\ p = hk \\ \\ \\ \\text{and} \\ \\ \\ \\hbar = \\frac{h}{2\\pi}\n",
    "$$\n",
    "\n",
    "$$\n",
    "E = h f = \\frac{(\\hbar k)^{2}}{2m}  + V(x)\n",
    "$$\n",
    "\n",
    "Here we have a physical law of the universe, E=hf, which could only become self-evident because we have solved the equation correctly (if you want to know more about why this approach is true, ask your lecturers). "
   ]
  },
  {
   "cell_type": "markdown",
   "metadata": {
    "collapsed": true
   },
   "source": [
    "## Physics: Question Two\n",
    "\n",
    "(a) What is the formula for the De Broglie wavelength?\n",
    "\n",
    "(b) How can we relate the energy of a particle to its wavelength and momentum? \n",
    "\n",
    "(c) Looking at this, why is mass involved? \n",
    "\n",
    "**Hint**: _These are more qualitative. The answers can be found in the A.C. Phillips Quantum Physics textbook._\n",
    "\n",
    "(a) $$\\lambda = \\frac{h}{p}$$\n",
    "\n",
    "(b) $$\\epsilon = mc^c + E = mc^2 + \\frac{p^2}{2m}$$\n",
    "\n",
    "(c) This was a contribution by Einstein but is also arguably a counterintuitive feature of nature. The question was asked to get you to think about why mass would be involved with energy and hopefully connect the dots to the famous equation of Einstein's."
   ]
  },
  {
   "cell_type": "markdown",
   "metadata": {},
   "source": [
    "## Physics: Question Three\n",
    "\n",
    "**(a) Intuitively, do you think a photon is a wave or a particle? **\n",
    "\n",
    "This was asked to get into the mind's of students how the picture the sub-atomic world.\n",
    "\n",
    "**(b) Again, intuitively, do you think an electron is a wave or a particle?**\n",
    "\n",
    "This was asked to get into the mind's of students how the picture the sub-atomic world.\n",
    "\n",
    "**(c) Using resources, describe the Compton effect (this was discussed in last week's lecture).**\n",
    "\n",
    "The Compton effect describes how a photon loses energy (increases in wavelength) when it collides with an electron.\n",
    "\n",
    "**(d) If a photon hits a stationary electron and refracts with an angle of $85^{o}$, what is the change in wavelength of the photon? **\n",
    "\n",
    "Somewhere on the order of 2 picometres.\n",
    "\n",
    "**(e) If the photon was yellow ($ \\lambda \\approx 590nm $) would this change its colour? If so, how?**\n",
    "\n",
    "No, it is such a small change that it would not impact the colour of this individual photon. "
   ]
  },
  {
   "cell_type": "code",
   "execution_count": null,
   "metadata": {
    "collapsed": true
   },
   "outputs": [],
   "source": []
  }
 ],
 "metadata": {
  "kernelspec": {
   "display_name": "Python 3",
   "language": "python",
   "name": "python3"
  },
  "language_info": {
   "codemirror_mode": {
    "name": "ipython",
    "version": 3
   },
   "file_extension": ".py",
   "mimetype": "text/x-python",
   "name": "python",
   "nbconvert_exporter": "python",
   "pygments_lexer": "ipython3",
   "version": "3.6.1"
  }
 },
 "nbformat": 4,
 "nbformat_minor": 2
}
