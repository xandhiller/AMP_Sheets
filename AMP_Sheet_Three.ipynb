{
 "cells": [
  {
   "cell_type": "markdown",
   "metadata": {},
   "source": [
    "# Sheet Three: Advanced Mathematics and Physics (68038)"
   ]
  },
  {
   "cell_type": "markdown",
   "metadata": {},
   "source": [
    ">### Expected Value of Position\n",
    "\n",
    "> For a particle with a wavefunction $\\Psi(x,t)$\n",
    "\n",
    "> The expected value of position $(x)$ is:\n",
    "\n",
    "$$\n",
    "<x> = \\int^{\\infty}_{-\\infty} x \\ |\\Psi|^2 \\ dx\n",
    "$$"
   ]
  },
  {
   "cell_type": "markdown",
   "metadata": {},
   "source": [
    ">### Green's Theorem\n",
    "\n",
    ">Green's theorem allows us to exchange two-variable line integrals with two-variable double integrals. Sometimes you have a line integral and you want the double integral. Other times it's the other way around. It's all about transformations that make your analysis easier.\n",
    "\n",
    "$$\n",
    "\\text{Double Integral} \\  \\Longleftrightarrow  \\ \\text{Line Integral}\n",
    "$$\n",
    "\n",
    "But, there are some conditions! Looking at the formula, what do you think they are?\n",
    "\n",
    "$$\n",
    "\\oint_{C} P \\ dx + Q \\ dy \\ =   \\int\\int_{D} \\bigg( \\frac{dQ}{dx} - \\frac{dP}{dy}  \\bigg) dA\n",
    "$$"
   ]
  },
  {
   "cell_type": "markdown",
   "metadata": {},
   "source": [
    "## Physics Question One\n",
    "\n",
    "_This is a question very similar to what I had in my final exam._\n",
    "\n",
    "Placing a particle in a box of width $a$ that has a wavefunction $\\Psi(x,t)$\n",
    "\n",
    "$$\n",
    "\\Psi(x,t) = N \\sin(k x ) e^{\\frac{-i E_n t}{\\hbar}}\n",
    "$$\n",
    "\n",
    "(a) Obtain the normalised wavefunction.\n",
    "\n",
    "(b) Discuss with those on your table and write a short paragraph about what this normalised wavefunction _means_.\n",
    "\n",
    "(c) Plot this wave function in the box with $n = 1$\n",
    "\n",
    "(d) Now replot with $n = 2, 3, 4 \\ ... $ How does this change the appearance?\n",
    "\n",
    "(e) What do these varying numbers $n$ mean with respect to the particle?"
   ]
  },
  {
   "cell_type": "markdown",
   "metadata": {},
   "source": [
    "## Mathematics Question One\n",
    "\n",
    "Using Green's theorem, calculate the work done on the field $f$ when you move a particle in a circular path along $C$, a circle at the origin with radius $= 1$\n",
    "\n",
    "$$\n",
    "f(x,y) = \n",
    "\\bigg( \\tan\\big(\\frac{x-4}{x^3} \\big) - x^2y  \\bigg) dx +\n",
    "\\bigg( \\sin\\big(\\sqrt{y}\\big) + xy^2 \\bigg) dy\n",
    "$$"
   ]
  },
  {
   "cell_type": "markdown",
   "metadata": {},
   "source": [
    "## Mathematics Question Two (Conceptual)\n",
    "\n",
    "(a) For a function: \n",
    "\n",
    "$$\n",
    "f(x,\\ y, \\ z) = (\\ g(t), \\  h(t),\\  k(t) \\ )\n",
    "$$\n",
    "\n",
    "Write out the algebraic equivalents of:\n",
    "\n",
    "* $\\nabla f$\n",
    "\n",
    "* $\\nabla ^{2} f$\n",
    "\n",
    "(b) For the output of the following operations will the result be a vector or a scalar?\n",
    "\n",
    "* Gradient ($\\nabla f$)\n",
    "\n",
    "* Divergence ($\\nabla \\cdot \\mathbf{F}$)\n",
    "\n",
    "*  Curl ($\\nabla \\times \\mathbf{F}$)"
   ]
  },
  {
   "cell_type": "code",
   "execution_count": null,
   "metadata": {
    "collapsed": true
   },
   "outputs": [],
   "source": []
  }
 ],
 "metadata": {
  "kernelspec": {
   "display_name": "Python 3",
   "language": "python",
   "name": "python3"
  },
  "language_info": {
   "codemirror_mode": {
    "name": "ipython",
    "version": 3
   },
   "file_extension": ".py",
   "mimetype": "text/x-python",
   "name": "python",
   "nbconvert_exporter": "python",
   "pygments_lexer": "ipython3",
   "version": "3.6.1"
  }
 },
 "nbformat": 4,
 "nbformat_minor": 2
}
