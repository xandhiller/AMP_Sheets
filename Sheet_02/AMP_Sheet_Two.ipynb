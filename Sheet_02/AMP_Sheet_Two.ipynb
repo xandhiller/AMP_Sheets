{
 "cells": [
  {
   "cell_type": "markdown",
   "metadata": {},
   "source": [
    "# Sheet Two: Advanced Mathematics and Physics (68038)"
   ]
  },
  {
   "cell_type": "markdown",
   "metadata": {},
   "source": [
    "## Physics: Question One "
   ]
  },
  {
   "cell_type": "markdown",
   "metadata": {},
   "source": [
    "Consider the Schrodinger Wave Equation for a partical moving in a one-dimensional universe against a potential $V(x)$\n",
    "\n",
    "$$\n",
    "i \\hbar \\frac{\\partial \\Psi}{\\partial t} = -\\frac{\\hbar^2}{2m} \\frac{\\partial^2 \\Psi}{\\partial x^2} + V(x)\\Psi\n",
    "$$\n",
    "\n",
    "Prove that the following equation is a solution: \n",
    "\n",
    "$$\n",
    "\\Psi(x,t) = A e^{i(kx-wt)}\n",
    "$$\n",
    "\n",
    "**Hint**: _Think about how \"proving this is a solution is done\" otherwise you might get to the end and not realise it._\n"
   ]
  },
  {
   "cell_type": "markdown",
   "metadata": {},
   "source": [
    "## Physics: Question Two "
   ]
  },
  {
   "cell_type": "markdown",
   "metadata": {},
   "source": [
    "(a) What is the formula for the De Broglie wavelength?\n",
    "\n",
    "(b) How can we relate the energy of a particle to its wavelength and momentum? \n",
    "\n",
    "(c) Looking at this, why is mass involved? \n",
    "\n",
    "**Hint**: _These are more qualitative. The answers can be found in the A.C. Phillips Quantum Physics textbook._"
   ]
  },
  {
   "cell_type": "markdown",
   "metadata": {},
   "source": [
    "## Physics: Question Three"
   ]
  },
  {
   "cell_type": "markdown",
   "metadata": {},
   "source": [
    "(a) Intuitively, do you think a photon is a wave or a particle?\n",
    "\n",
    "(b) Again, intuitively, do you think an electron is a wave or a particle?\n",
    "\n",
    "(c) Using resources, describe the Compton Effect (this was discussed in last week's lecture).\n",
    "\n",
    "(d) If a photon hits a stationary electron and refracts with an angle of $85^{o}$, what is the change in wavelength of the photon?\n",
    "\n",
    "(e) If the photon was yellow ($ \\lambda \\approx 590nm $) would this change its colour? If so, how?"
   ]
  },
  {
   "cell_type": "markdown",
   "metadata": {},
   "source": [
    "## Mathematics: Question One"
   ]
  },
  {
   "cell_type": "markdown",
   "metadata": {},
   "source": [
    "Consider the force field:\n",
    "\n",
    "$$\n",
    "\\mathbf{F}(x, y) = x^2\\mathbf{i} − xy\\mathbf{j}\n",
    "$$\n",
    "\n",
    "A particle is moved by this field along a straight line path $C$ defined as:\n",
    "\n",
    "$$\n",
    "C:  \\begin{bmatrix} 1 \\\\ 0 \\end{bmatrix} \\rightarrow  \\begin{bmatrix} 4 \\\\ 1 \\end{bmatrix} \n",
    "$$\n",
    "\n",
    "\n",
    "Find the amount of work done on the particle. "
   ]
  },
  {
   "cell_type": "markdown",
   "metadata": {},
   "source": []
  },
  {
   "cell_type": "code",
   "execution_count": null,
   "metadata": {
    "collapsed": true
   },
   "outputs": [],
   "source": []
  }
 ],
 "metadata": {
  "kernelspec": {
   "display_name": "Python 3",
   "language": "python",
   "name": "python3"
  },
  "language_info": {
   "codemirror_mode": {
    "name": "ipython",
    "version": 3
   },
   "file_extension": ".py",
   "mimetype": "text/x-python",
   "name": "python",
   "nbconvert_exporter": "python",
   "pygments_lexer": "ipython3",
   "version": "3.6.1"
  }
 },
 "nbformat": 4,
 "nbformat_minor": 2
}
