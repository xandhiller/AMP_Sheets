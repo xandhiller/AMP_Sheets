{
 "cells": [
  {
   "cell_type": "markdown",
   "metadata": {},
   "source": [
    "# Sheet Four: Advanced Mathematics and Physics (68038)"
   ]
  },
  {
   "cell_type": "markdown",
   "metadata": {},
   "source": [
    "> The formula of a sphere is given by: \n",
    "$$\n",
    "a^2 = x^2 + y^2 + z^2\n",
    "$$\n",
    "\n",
    "> Surface integrals can be solved as integrals over area via parameterisation, similar to our line integral formula. \n",
    "\n",
    "> **Line Integral**\n",
    "$$\n",
    "\\int \\mathbf{F} \\cdot d\\mathbf{s} = \\int \\mathbf{F}(\\mathbf{r}) \\cdot \\mathbf{r^{'}}(t) \\ dt\n",
    "$$\n",
    "> **Surface Integral**\n",
    "$$\n",
    "\\int \\int_{S} \\ f(x,y,z) \\ dS = \\int \\int_D f(\\mathbf{r}(u, v))  \\ \\ \\big|\\big| \\ r_u × r_v \\ \\big|\\big|  \\ dA\n",
    "$$"
   ]
  },
  {
   "cell_type": "markdown",
   "metadata": {},
   "source": [
    "## Mathematics Question 1\n",
    "\n",
    "**(a) For the scalar function:**\n",
    "$$\n",
    "f(x,y) = xy\n",
    "$$\n",
    "\n",
    "* (i) Find the gradient\n",
    "\n",
    "* (ii) Find the curl\n",
    "\n",
    "* (iii) Find the divergence\n",
    "\n",
    "\n",
    "**(b) For the vector function:**\n",
    "$$\n",
    "\\mathbf{F} = \\begin{bmatrix} 0 \\\\ -x^2 \\\\ 0 \\end{bmatrix} \n",
    "$$\n",
    "\n",
    "* (i) Find the curl\n",
    "\n",
    "* (ii) Find the divergence\n",
    "\n",
    "\n",
    "**(c) Given the following vector field:**\n",
    "$$\n",
    "\\mathbf{F} =  \\begin{bmatrix} \\cos(x) \\ y^2 \\\\ 2   \\sin(x)  \\ y \\\\ 0 \\end{bmatrix}\n",
    "$$\n",
    "\n",
    "* (i) Find the curl\n",
    "\n",
    "* (ii) Find the divergence\n",
    "\n",
    "* (iii) Find a potential function"
   ]
  },
  {
   "cell_type": "markdown",
   "metadata": {},
   "source": [
    "## Mathematics Question 2\n",
    "\n",
    "**Aim:** We are going to prove the surface area of a sphere is $4\\pi r^2$\n",
    "\n",
    "Spherical coordinates are usually described as:\n",
    "\n",
    "><img src=https://upload.wikimedia.org/wikipedia/commons/thumb/d/dc/3D_Spherical_2.svg/240px-3D_Spherical_2.svg.png>\n",
    "\n",
    "We will substitute the radius $r$ with $\\rho$, as $r$ is used to symbolise path for our surface integral.\n",
    "\n",
    "(a) To assist in this proof, verify that:\n",
    "\n",
    "$$\n",
    "x = \\rho \\sin(\\varphi) \\cos (\\theta) \\\\\n",
    "y = \\rho \\sin(\\varphi) \\sin (\\theta) \\\\\n",
    "z = \\rho \\cos(\\varphi)\n",
    "$$\n",
    "\n",
    "_(Spherical coordinates come up a lot)_\n",
    "\n",
    "\n",
    "\n",
    "(b) Using the following formula of a sphere and spherical coordinates, parameterise and express the formula with respect to $\\theta$ and $\\varphi$, filling in:\n",
    "\n",
    "$$\n",
    "\\mathbf{r} = \\begin{bmatrix} x(\\theta, \\varphi) \\\\ y(\\theta, \\varphi) \\\\ z(\\theta, \\varphi) \\end{bmatrix}\n",
    "$$\n",
    "\n",
    "\n",
    "(c) For our path, calculate:\n",
    "$$\\frac{\\partial \\mathbf{r}}{\\partial \\theta}$$ and $$\\frac{\\partial \\mathbf{r}}{\\partial \\varphi}$$\n",
    "\n",
    "(d) Determine the value of:\n",
    "\n",
    "$$\n",
    "\\bigg|\\bigg| \\frac{\\partial \\mathbf{r}}{\\partial \\theta} \\times \\frac{\\partial \\mathbf{r}}{\\partial \\varphi} \\bigg|\\bigg|\n",
    "$$\n",
    "\n",
    "(e) Now solve:\n",
    "\n",
    "$$\n",
    "\\int \\int_D  \\ \\ \n",
    "\\big|\\big| \\ \n",
    "\\frac{\\partial \\mathbf{r}}{\\partial \\theta} \n",
    "\\times \n",
    "\\frac{\\partial \\mathbf{r}}{\\partial \\varphi} \\\n",
    "\\big|\\big|  \\ \n",
    "dA\n",
    "=\n",
    "\\int^{\\pi}_{0} \\int^{2\\pi}_{0}  \\ \\ \n",
    "\\big|\\big| \\ \n",
    "\\frac{\\partial \\mathbf{r}}{\\partial \\theta} \n",
    "\\times \n",
    "\\frac{\\partial \\mathbf{r}}{\\partial \\varphi} \\\n",
    "\\big|\\big|  \\ \n",
    "d\\theta d\\varphi\n",
    "$$"
   ]
  },
  {
   "cell_type": "code",
   "execution_count": null,
   "metadata": {
    "collapsed": true
   },
   "outputs": [],
   "source": []
  }
 ],
 "metadata": {
  "kernelspec": {
   "display_name": "Python 3",
   "language": "python",
   "name": "python3"
  },
  "language_info": {
   "codemirror_mode": {
    "name": "ipython",
    "version": 3
   },
   "file_extension": ".py",
   "mimetype": "text/x-python",
   "name": "python",
   "nbconvert_exporter": "python",
   "pygments_lexer": "ipython3",
   "version": "3.6.1"
  }
 },
 "nbformat": 4,
 "nbformat_minor": 2
}
