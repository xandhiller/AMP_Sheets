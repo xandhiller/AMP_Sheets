{
 "cells": [
  {
   "cell_type": "markdown",
   "metadata": {},
   "source": [
    "# Sheet One"
   ]
  },
  {
   "cell_type": "markdown",
   "metadata": {},
   "source": [
    "## Line Integrals\n",
    "\n",
    ">Over a **scalar** field\n",
    "><img src=\"https://upload.wikimedia.org/wikipedia/commons/4/42/Line_integral_of_scalar_field.gif\">\n",
    ">Over a **vector** field\n",
    "><img src=\"https://upload.wikimedia.org/wikipedia/commons/b/b0/Line_integral_of_vector_field.gif\">"
   ]
  },
  {
   "cell_type": "markdown",
   "metadata": {},
   "source": [
    "## Definition of a Differential Equation\n",
    "> A differential equation is a mathematical equation that relates _some function_ with its _derivatives_."
   ]
  },
  {
   "cell_type": "markdown",
   "metadata": {},
   "source": [
    "# Mathematics: Question One\n",
    "Evaluate the integral:\n",
    "\n",
    "$$ \\\\ \\int_{C}(3x+2xy^2) \\ ds $$\n",
    "\n",
    "Along the curve: \n",
    "\n",
    "$$ \\\\ C: \\quad x^2+y^2 = 3 $$\n",
    "\n",
    "within the first quadrant. "
   ]
  },
  {
   "cell_type": "markdown",
   "metadata": {},
   "source": [
    "# Mathematics: Question Two\n",
    "\n",
    "Evaluate the integral:\n",
    "$$ \\int \\big(x^2-y \\big) \\ dx \\ + \\  \\big( y^2+x  \\big) \\ dy \\ $$\n",
    "\n",
    "Along $C$, the straight line from (0,1) $\\rightarrow$ (1,2)"
   ]
  },
  {
   "cell_type": "markdown",
   "metadata": {},
   "source": [
    "# Physics: Question One\n",
    "\n",
    "(a) What is the name of the following equation?\n",
    "\n",
    "$$ i\\hbar \\frac{d\\phi}{dt} \\ = \\ E \\ \\phi(t) $$\n",
    "\n",
    "(b) Solve the differential equation for $\\phi(t)$:\n",
    "\n",
    "$$ i\\hbar \\frac{d\\phi}{dt} \\ = \\ E \\ \\phi(t) $$\n",
    "\n",
    "Such that:\n",
    "\n",
    "$  i=\\sqrt{-1}$\n",
    "\n",
    "$ h  = 6.626 \\times 10^{-34} \\ m^{2}kg/s $\n",
    "\n",
    "$ \\hbar = h \\ / \\ 2\\pi  $\n",
    "\n",
    "$E \\ \\ $ is a constant"
   ]
  },
  {
   "cell_type": "markdown",
   "metadata": {},
   "source": [
    "# Physics: Question Two\n",
    "\n",
    "(a) What is the formula for the _Heisenberg Uncertainty Principle_?\n",
    "\n",
    "(b) If you have $\\Delta x = 0 $ (that is, you have no uncertainty in the position of a particle) then what is your uncertainty in the momentum ($\\Delta p$)?\n",
    "\n",
    "(c) A particle of mass $10^{-6}$ kg moves on a straight path with velocity ($326$ × $10^4$ ± $0.75$) m/s. What would be the uncertainty in displacement?"
   ]
  }
 ],
 "metadata": {
  "kernelspec": {
   "display_name": "Python 3",
   "language": "python",
   "name": "python3"
  },
  "language_info": {
   "codemirror_mode": {
    "name": "ipython",
    "version": 3
   },
   "file_extension": ".py",
   "mimetype": "text/x-python",
   "name": "python",
   "nbconvert_exporter": "python",
   "pygments_lexer": "ipython3",
   "version": "3.6.1"
  }
 },
 "nbformat": 4,
 "nbformat_minor": 2
}
