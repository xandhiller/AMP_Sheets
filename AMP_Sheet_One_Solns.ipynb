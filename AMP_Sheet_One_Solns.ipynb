{
 "cells": [
  {
   "cell_type": "markdown",
   "metadata": {
    "slideshow": {
     "slide_type": "slide"
    }
   },
   "source": [
    "# Sheet One"
   ]
  },
  {
   "cell_type": "code",
   "execution_count": null,
   "metadata": {
    "collapsed": true,
    "slideshow": {
     "slide_type": "slide"
    }
   },
   "outputs": [],
   "source": [
    "from sympy import *\n",
    "\n",
    "from sympy.plotting.plot import Plot, ContourSeries\n",
    "import matplotlib.pyplot as plt\n",
    "import numpy as np\n",
    "from mpl_toolkits.mplot3d import Axes3D\n",
    "import matplotlib.pyplot as plt\n",
    "from matplotlib import cm\n",
    "from matplotlib.ticker import LinearLocator, FormatStrFormatter\n",
    "init_printing()"
   ]
  },
  {
   "cell_type": "markdown",
   "metadata": {
    "slideshow": {
     "slide_type": "subslide"
    }
   },
   "source": [
    "# Mathematics: Question One\n",
    "Evaluate the integral:\n",
    "\n",
    "$$ \\\\ \\int_{C}(3x+2xy^2) \\ ds $$\n",
    "\n",
    "Along the curve: \n",
    "\n",
    "$$ \\\\ C: \\quad x^2+y^2 = 3 $$\n",
    "\n",
    "within the first quadrant. "
   ]
  },
  {
   "cell_type": "markdown",
   "metadata": {
    "slideshow": {
     "slide_type": "slide"
    }
   },
   "source": [
    "## Let's look at the surface"
   ]
  },
  {
   "cell_type": "code",
   "execution_count": null,
   "metadata": {
    "slideshow": {
     "slide_type": "subslide"
    }
   },
   "outputs": [],
   "source": [
    "fig = plt.figure()\n",
    "ax = fig.gca(projection='3d')\n",
    "X = np.arange(-10, 10)\n",
    "Y = np.arange(-10, 10)\n",
    "X, Y = np.meshgrid(X, Y)\n",
    "\n",
    "# FUNCTION\n",
    "Z = 3*X+2*X*(Y**2)\n",
    "\n",
    "surf = ax.plot_surface(\n",
    "    X, Y, Z, cmap=cm.coolwarm,\n",
    "    linewidth=0, antialiased=False)\n",
    "\n",
    "plt.show()"
   ]
  },
  {
   "cell_type": "markdown",
   "metadata": {
    "slideshow": {
     "slide_type": "slide"
    }
   },
   "source": [
    "## And the path, C"
   ]
  },
  {
   "cell_type": "code",
   "execution_count": null,
   "metadata": {
    "slideshow": {
     "slide_type": "subslide"
    }
   },
   "outputs": [],
   "source": [
    "import matplotlib as mpl\n",
    "from mpl_toolkits.mplot3d import Axes3D\n",
    "import numpy as np\n",
    "import matplotlib.pyplot as plt\n",
    "\n",
    "mpl.rcParams['legend.fontsize'] = 10\n",
    "\n",
    "fig = plt.figure()\n",
    "ax = fig.gca(projection='3d')\n",
    "\n",
    "# Prepare arrays x, y, z\n",
    "theta = np.linspace(-4 * np.pi, 4 * np.pi, 100)\n",
    "z = np.linspace(0, 0, 100)\n",
    "r = sqrt(3)\n",
    "x = r * np.cos(theta)\n",
    "y = r * np.sin(theta)\n",
    "\n",
    "ax.plot(x, y, z, label='The path, C')\n",
    "ax.legend()\n",
    "\n",
    "plt.show()"
   ]
  },
  {
   "cell_type": "markdown",
   "metadata": {},
   "source": [
    "## Parameterising our path\n",
    "\n",
    "$$ x =r\\cos(x) $$\n",
    "\n",
    "$$ y = r \\sin(x) $$\n",
    "\n",
    "$ds$ is a _path_.\n",
    "\n",
    "\n",
    "\n",
    "**Arc Length Formula:**\n",
    "\n",
    "$$ ds = \\sqrt{dy^{2}+dx^{2}} $$\n",
    "\n",
    "$$ ds = \\sqrt{ \\bigg( {\\frac{dy}{dx}}\\bigg)^{2}+1}  \\ \\ dx $$\n",
    "\n",
    "_Doesn't really work with what we're doing (a bit complicated)._\n",
    "\n",
    "\n",
    "\n",
    "**Examining the arc length of a circle:**\n",
    "\n",
    "$$ s = \\theta r $$\n",
    "\n",
    "$$ \\therefore \\quad ds =  dr \\ d\\theta $$\n",
    "\n",
    "\n",
    "**Inserting into this:**\n",
    "\n",
    "$$ \\int_{C}(3x+2xy^2) \\ ds $$\n",
    "\n",
    "** We get:**\n",
    "\n",
    "$$ \\int \\int  3r\\cos \\theta + 2r \\cos \\theta  \\ r^2 \\sin^{2} \\theta \\ \\ dr \\ d\\theta $$\n",
    "\n",
    "** Inserting the bounds: **\n",
    "$$ \\int^{\\frac{\\pi}{2}}_{0} \\int^{\\sqrt{3}}_{0}  3r\\cos \\theta + 2r^3 \\cos \\theta \\sin^{2} \\theta \\ \\ dr \\ d\\theta $$"
   ]
  },
  {
   "cell_type": "markdown",
   "metadata": {},
   "source": [
    "## Cranking out the integral\n",
    "\n",
    "$$ \\int^{\\frac{\\pi}{2}}_{0} \\int^{\\sqrt{3}}_{0}  3r\\cos \\theta + 2r^3 \\cos \\theta  \\sin^{2} \\theta \\ \\ dr \\ d\\theta $$\n",
    "\n",
    "\n",
    "$$ \\int^{\\frac{\\pi}{2}}_{0} \\bigg[  \\frac{3r^2}{2}\\cos \\theta + \\frac{2r^4}{4} \\cos \\theta  \\sin^{2} \\theta  \\ d\\theta  \\bigg]^\\sqrt{3}_{0} $$\n",
    "\n",
    "\n",
    "$$ \\int^{\\frac{\\pi}{2}}_{0} \\frac{9}{2}\\cos \\theta + \\frac{18}{4} \\cos \\theta  \\sin^{2} \\theta  \\ d\\theta  $$\n",
    "\n",
    "\n",
    "$$ \\frac{9}{2} \\int^{\\frac{\\pi}{2}}_{0}\\cos \\theta \\ \\ + \\ \\ \\frac{18}{4}\\int^{\\frac{\\pi}{2}}_{0} \\cos \\theta  \\sin^{2} \\theta  \\ d\\theta  $$\n",
    "\n",
    "\n",
    "$$ \\frac{9}{2} \\bigg[ \\sin \\theta \\bigg]^{\\frac{\\pi}{2}}_{0} \\ \\ + \\ \\ \\frac{18}{4}\\int^{\\frac{\\pi}{2}}_{0} \\cos \\theta  \\sin^{2} \\theta  \\ d\\theta  $$\n",
    "\n",
    "\n",
    "$$ \\frac{9}{2}  \\ \\ + \\ \\ \\frac{18}{4}\\int^{\\frac{\\pi}{2}}_{0} \\cos \\theta  \\sin^{2} \\theta  \\ d\\theta  $$\n",
    "\n",
    "\n",
    "_Now for some $u$ substitution:_\n",
    "\n",
    "$$ u = \\sin\\theta $$\n",
    "\n",
    "$$ \\frac{du}{d\\theta} = \\cos \\theta $$\n",
    "\n",
    "$$ \\frac{du}{\\cos \\theta} =  d\\theta $$\n",
    "\n",
    "_Putting it into the integral:_\n",
    "\n",
    "$$ \\frac{9}{2}  \\ \\ + \\ \\ \\frac{18}{4}\\int^{\\frac{\\pi}{2}}_{0} \\cos \\theta  \\sin^{2} \\theta  \\ d\\theta  $$\n",
    "\n",
    "$$ \\frac{9}{2}  \\ \\ + \\ \\ \\frac{18}{4}\\int^{\\frac{\\pi}{2}}_{0} \\cos \\theta \\ \\  u^{2} \\  \\frac{du}{\\cos \\theta} $$\n",
    "\n",
    "$$ \\frac{9}{2}  \\ \\ + \\ \\ \\frac{18}{4}\\int^{\\frac{\\pi}{2}}_{0} u^{2} \\  du $$\n",
    "\n",
    "$$ \\frac{9}{2}  \\ \\ + \\ \\ \\frac{18}{4} \\bigg[ \\frac{u^{3}}{3} \\bigg]^{\\frac{\\pi}{2}}_{0} $$\n",
    "\n",
    "_Chuck $u$ back in:_\n",
    "\n",
    "$$ \\frac{9}{2}  \\ \\ + \\ \\ \\frac{18}{4} \\bigg[ \\frac{{\\sin^{3}\\theta}}{3} \\bigg]^{\\frac{\\pi}{2}}_{0} $$\n",
    "\n",
    "$$ \\frac{9}{2}  \\ \\ + \\ \\ \\frac{18}{4} \\frac{1}{3}  $$\n",
    "\n",
    "$$ \\frac{9}{2}  \\ \\ + \\ \\ \\frac{18}{12}   $$\n",
    "\n",
    "$$ = 6 $$\n",
    "\n",
    "---"
   ]
  },
  {
   "cell_type": "markdown",
   "metadata": {},
   "source": [
    "# Mathematics: Question Two\n",
    "\n",
    "Evaluate the integral:\n",
    "$$ \\int \\big(x^2-y \\big) \\ dx \\ + \\  \\big( y^2+x  \\big) \\ dy \\ $$\n",
    "\n",
    "Along $C$, the straight line from (0,1) $\\rightarrow$ (1,2)"
   ]
  },
  {
   "cell_type": "markdown",
   "metadata": {},
   "source": [
    "## Parameterise!\n",
    "This might be a new trick, but I bloody love this one. Works only for straight lines (as it uses _linear_ algebra).\n",
    "\n",
    "$$ \\big( t+1 \\big) \\begin{bmatrix} 0 \\\\ 1 \\end{bmatrix}\\ + \\ t \\ \\begin{bmatrix} 1 \\\\ 2 \\end{bmatrix} $$\n",
    "\n",
    "Hence:\n",
    "\n",
    "$$ x = 0 + t $$ \n",
    "\n",
    "$$ y \\ = \\ t + 1 + 2t \\ = \\ 3t +1 $$\n",
    "\n",
    "But we need to calculate the squares of $x$ and $y$ and differentials ($dx$ and $dy$) in order to crank out the integral:\n",
    "\n",
    "$$ \n",
    "x^2 = t^2 \n",
    "$$ \n",
    "\n",
    "$$\n",
    "y^2 = (3t+1)^2  = 9t^2+6t +1 \n",
    "$$\n",
    "\n",
    "$$\n",
    "\\frac{dx}{dt} = 1 \\qquad {dx} =  dt\n",
    "$$\n",
    "\n",
    "$$\n",
    "\\frac{dy}{dt} = 3 \\qquad {dy} = 3 \\ {dt}\n",
    "$$\n",
    "\n",
    "\n"
   ]
  },
  {
   "cell_type": "markdown",
   "metadata": {},
   "source": [
    "## Crank out the integral\n",
    "\n",
    "$$ \\int \\big(x^2-y \\big) \\ dx \\ + \\  \\big( y^2+x  \\big) \\ dy \\ $$\n",
    "\n",
    "Substitute in our values:\n",
    "\n",
    "$$ \n",
    "\\int_0^1 \\big( t^2 - (3t +1) \\big) \\ dt \\ + \\  \\big( 9t^2+6t+1 + t  \\big) \\ 3{dt} \\ \n",
    "$$\n",
    "\n",
    "Expanding:\n",
    "\n",
    "$$ \n",
    "\\int_0^1 \\big( t^2 - 3t -1 \\big) \\ dt \\ + \\  \\big( 27t^2+21t+3  \\big) \\ {dt} \\ \n",
    "$$\n",
    "\n",
    "Simplifying:\n",
    "\n",
    "$$ \n",
    "\\int_0^1 \\big( 28t^2 + 18t + 2 \\big) \\ dt \n",
    "$$\n",
    "\n",
    "Evaluating the integral:\n",
    "$$\n",
    "\\big[ \\ \\frac{28t^3}{3} + \\frac{18t^2}{2} + 2t  \\ \\big]^1_0 \\\\\n",
    "= 20.33\\dot{3}\n",
    "$$"
   ]
  },
  {
   "cell_type": "markdown",
   "metadata": {},
   "source": [
    "# Physics: Question One\n",
    "\n",
    "(a) What is the name of the following equation?\n",
    "\n",
    "$$ i\\hbar \\frac{d\\phi}{dt} \\ = \\ E \\ \\phi(t) $$\n",
    "\n",
    "(b) Solve the differential equation for $\\phi(t)$:\n",
    "\n",
    "$$ i\\hbar \\frac{d\\phi}{dt} \\ = \\ E \\ \\phi(t) $$\n",
    "\n",
    "Such that:\n",
    "\n",
    "$  i=\\sqrt{-1}$\n",
    "\n",
    "$ h  = 6.626 \\times 10^{-34} \\ m^{2}kg/s $\n",
    "\n",
    "$ \\hbar = h \\ / \\ 2\\pi  $\n",
    "\n",
    "$E \\ \\ $ is a constant"
   ]
  },
  {
   "cell_type": "markdown",
   "metadata": {},
   "source": [
    "---\n",
    "## Name of the equation:\n",
    "It is a variant of the _Schrodinger Equation_. \n",
    "\n",
    "---\n",
    "\n",
    "## A first order differential equation! Old tricks should work:\n",
    "\n",
    "$$ i\\hbar \\frac{d\\phi}{dt} \\ = \\ E \\ \\phi(t) $$\n",
    "\n",
    "$$  \\frac{d\\phi}{\\phi(t)} \\ = \\ \\frac{E \\ dt}{i\\hbar} $$\n",
    "\n",
    "Clean up $i$:\n",
    "\n",
    "$$  \\frac{d\\phi}{\\phi(t)} \\ = \\ \\frac{E \\ dt}{i\\hbar} \\frac{i}{i} $$\n",
    "\n",
    "$$  \\frac{d\\phi}{\\phi(t)} \\ = \\ \\frac{-i \\ E \\ dt}{\\hbar} $$\n",
    "\n",
    "Integrate both sides:\n",
    "\n",
    "$$  \\int \\frac{d\\phi}{\\phi(t)} \\ = \\ \\int \\frac{-i \\ E}{\\hbar}dt $$\n",
    "\n",
    "$$  \\ln[  \\phi(t)  ] + C_1 \\ = \\ \\frac{-i \\ E}{\\hbar}t + C_2 $$\n",
    "\n",
    "Make both sides the exponent of $e$:\n",
    "\n",
    "$$  e^{\\ln[\\phi(t)] + C_1} \\ = \\ e^{\\frac{-i \\ E}{\\hbar}t + C_2} $$\n",
    "\n",
    "Use exponent rules to simplify:\n",
    "\n",
    "$$ A = \\frac{e^{C_2}}{e^{C_1}} $$\n",
    "\n",
    "$$ \\phi(t) \\ = \\ A \\ e^{\\frac{-i \\ E}{\\hbar}t} $$"
   ]
  },
  {
   "cell_type": "markdown",
   "metadata": {},
   "source": [
    "# Physics: Question Two\n",
    "\n",
    "(a) What is the formula for the _Heisenberg Uncertainty Principle_?\n",
    "\n",
    "(b) If you have $\\Delta x = 0 $ (that is, you have no uncertainty in the position of a particle) then what is your uncertainty in the momentum ($\\Delta p$)?\n",
    "\n",
    "(c) A particle of mass $10^{-6} ± 10^{-8} $ kg moves on a straight path with velocity ($326$ × $10^4$ ± $0.75$) m/s. What would be the uncertainty in displacement?"
   ]
  },
  {
   "cell_type": "markdown",
   "metadata": {},
   "source": [
    "(a) \n",
    "$$\n",
    "\\Delta x \\ \\Delta p ≥ \\hbar\n",
    "$$\n",
    "\n",
    "(b)\n",
    "$$\n",
    "\\Delta x \\ \\Delta p ≥ \\hbar\n",
    "$$\n",
    "\n",
    "$$\n",
    "\\ \\Delta p ≥ \\frac{\\hbar}{\\Delta x }\n",
    "$$\n",
    "\n",
    "$$\n",
    "\\ \\Delta p ≥ \\frac{\\hbar}{0} = \\infty\n",
    "$$\n",
    "\n",
    "Infinite uncertainty in the momentum.\n",
    "\n",
    "(c) \n",
    "Have to determine what happens when multiplying to measurements with uncertainties."
   ]
  }
 ],
 "metadata": {
  "kernelspec": {
   "display_name": "Python 3",
   "language": "python",
   "name": "python3"
  },
  "language_info": {
   "codemirror_mode": {
    "name": "ipython",
    "version": 3
   },
   "file_extension": ".py",
   "mimetype": "text/x-python",
   "name": "python",
   "nbconvert_exporter": "python",
   "pygments_lexer": "ipython3",
   "version": "3.6.1"
  }
 },
 "nbformat": 4,
 "nbformat_minor": 2
}
